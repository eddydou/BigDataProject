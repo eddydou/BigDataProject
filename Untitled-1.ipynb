{
 "cells": [
  {
   "cell_type": "markdown",
   "id": "7bc6a9f4",
   "metadata": {},
   "source": [
    "# Importer des données dans MariaDB avec GdeltDoc\n",
    "\n",
    "Ce notebook guide l'importation de données GDELT dans une base MariaDB en utilisant les bibliothèques appropriées."
   ]
  },
  {
   "cell_type": "markdown",
   "id": "3958008a",
   "metadata": {},
   "source": [
    "## 1. Importer les bibliothèques nécessaires\n",
    "\n",
    "Nous allons importer `mariadb`, `pandas`, ainsi que `GdeltDoc` et `Filters` pour manipuler les données GDELT."
   ]
  },
  {
   "cell_type": "code",
   "execution_count": 1,
   "id": "2090a000",
   "metadata": {},
   "outputs": [],
   "source": [
    "import mariadb\n",
    "import pandas as pd\n",
    "from gdeltdoc import GdeltDoc, Filters"
   ]
  },
  {
   "cell_type": "markdown",
   "id": "7c1d1d70",
   "metadata": {},
   "source": [
    "## 2. Configurer la connexion à MariaDB\n",
    "\n",
    "Définissons les paramètres de connexion à la base MariaDB dans un dictionnaire."
   ]
  },
  {
   "cell_type": "code",
   "execution_count": 6,
   "id": "278a38e6",
   "metadata": {},
   "outputs": [],
   "source": [
    "DB_CONFIG = {\n",
    "    \"host\": \"localhost\",\n",
    "    \"user\": \"florent\",           \n",
    "    \"password\": \"2003\",  \n",
    "    \"database\": \"gdelt_db\"\n",
    "}"
   ]
  },
  {
   "cell_type": "markdown",
   "id": "65d069c3",
   "metadata": {},
   "source": [
    "## 3. Se connecter à la base de données\n",
    "\n",
    "Établissons la connexion à MariaDB en utilisant les paramètres définis."
   ]
  },
  {
   "cell_type": "code",
   "execution_count": 7,
   "id": "ebfaed5f",
   "metadata": {},
   "outputs": [
    {
     "name": "stdout",
     "output_type": "stream",
     "text": [
      "Connexion réussie à MariaDB.\n"
     ]
    }
   ],
   "source": [
    "# ...existing code...\n",
    "try:\n",
    "    conn = mariadb.connect(**DB_CONFIG)\n",
    "    print(\"Connexion réussie à MariaDB.\")\n",
    "except mariadb.Error as e:\n",
    "    print(f\"Erreur lors de la connexion à MariaDB: {e}\")\n",
    "# ...existing code..."
   ]
  },
  {
   "cell_type": "markdown",
   "id": "c357d3f1",
   "metadata": {},
   "source": [
    "## 4. Exécuter une requête de test\n",
    "\n",
    "Vérifions la connexion en exécutant une requête simple : `SELECT VERSION()`."
   ]
  },
  {
   "cell_type": "code",
   "execution_count": 8,
   "id": "776a5c36",
   "metadata": {},
   "outputs": [
    {
     "name": "stdout",
     "output_type": "stream",
     "text": [
      "Version de MariaDB : 12.0.2-MariaDB\n"
     ]
    }
   ],
   "source": [
    "cur = conn.cursor()\n",
    "cur.execute(\"SELECT VERSION()\")\n",
    "version = cur.fetchone()\n",
    "print(\"Version de MariaDB :\", version[0])"
   ]
  },
  {
   "cell_type": "markdown",
   "id": "978ae822",
   "metadata": {},
   "source": [
    "## 5. Importer des données avec GdeltDoc\n",
    "\n",
    "Téléchargeons et préparons des données GDELT à l'aide de GdeltDoc et Filters."
   ]
  },
  {
   "cell_type": "code",
   "execution_count": null,
   "id": "82af9ed7",
   "metadata": {},
   "outputs": [],
   "source": [
    "from gdeltdoc import GdeltDoc, Filters, near, repeat\n",
    "\n",
    "f = Filters(\n",
    "    start_date = \"2020-05-01\",\n",
    "    end_date = \"2025-05-02\",\n",
    "    num_records = 250,\n",
    "    keyword = \"climate change\",\n",
    "    # domain = [\"bbc.co.uk\", \"nytimes.com\"],\n",
    "    # country = [\"UK\", \"US\"],\n",
    "    # theme = \"GENERAL_HEALTH\",\n",
    "    # near = near(10, \"airline\", \"carbon\"),\n",
    "    #repeat = repeat(3, \"\"),\n",
    "    language= \"ENGLISH\"\n",
    ")\n",
    "\n",
    "gd = GdeltDoc()\n",
    "\n",
    "# Search for articles matching the filters\n",
    "articles = gd.article_search(f)\n",
    "\n",
    "# Get a timeline of the number of articles matching the filters\n",
    "timeline = gd.timeline_search(\"timelinevol\", f)\n",
    "\n",
    "articles.head(20)"
   ]
  },
  {
   "cell_type": "markdown",
   "id": "ab324899",
   "metadata": {},
   "source": [
    "## 6. Insérer des données dans MariaDB\n",
    "\n",
    "Insérons les données récupérées dans une table MariaDB à l'aide de pandas ou du curseur MariaDB."
   ]
  },
  {
   "cell_type": "code",
   "execution_count": null,
   "id": "8814d8be",
   "metadata": {},
   "outputs": [],
   "source": [
    "# Exemple d'insertion avec pandas (nécessite la table 'gdelt_events' déjà créée)\n",
    "df_gdelt.to_sql('gdelt_events', con=conn, if_exists='append', index=False)\n",
    "print(\"Données insérées dans la table gdelt_events.\")"
   ]
  }
 ],
 "metadata": {
  "kernelspec": {
   "display_name": "Python 3",
   "language": "python",
   "name": "python3"
  },
  "language_info": {
   "codemirror_mode": {
    "name": "ipython",
    "version": 3
   },
   "file_extension": ".py",
   "mimetype": "text/x-python",
   "name": "python",
   "nbconvert_exporter": "python",
   "pygments_lexer": "ipython3",
   "version": "3.13.7"
  }
 },
 "nbformat": 4,
 "nbformat_minor": 5
}
