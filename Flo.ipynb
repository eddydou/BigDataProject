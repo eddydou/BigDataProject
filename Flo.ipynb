{
 "cells": [
  {
   "cell_type": "code",
   "execution_count": 5,
   "id": "cd20b92c",
   "metadata": {},
   "outputs": [],
   "source": [
    "from gdeltdoc import GdeltDoc, Filters, near, repeat\n",
    "\n",
    "f = Filters(\n",
    "    start_date = \"2020-05-01\",\n",
    "    end_date = \"2025-05-02\",\n",
    "    num_records = 250,\n",
    "    #keyword = \"climate change\",\n",
    "    # domain = [\"bbc.co.uk\", \"nytimes.com\"],\n",
    "    # country = [\"UK\", \"US\"],\n",
    "    # theme = \"GENERAL_HEALTH\",\n",
    "    # near = near(10, \"airline\", \"carbon\"),\n",
    "    #repeat = repeat(3, \"\"),\n",
    "    language= \"ENGLISH\"\n",
    ")\n",
    "\n",
    "gd = GdeltDoc()\n",
    "\n",
    "# Search for articles matching the filters\n",
    "articles = gd.article_search(f)\n",
    "\n",
    "# Get a timeline of the number of articles matching the filters\n",
    "timeline = gd.timeline_search(\"timelinevol\", f)\n",
    "\n",
    "\n",
    "\n",
    "\n",
    "\n"
   ]
  }
 ],
 "metadata": {
  "kernelspec": {
   "display_name": "Python 3",
   "language": "python",
   "name": "python3"
  },
  "language_info": {
   "codemirror_mode": {
    "name": "ipython",
    "version": 3
   },
   "file_extension": ".py",
   "mimetype": "text/x-python",
   "name": "python",
   "nbconvert_exporter": "python",
   "pygments_lexer": "ipython3",
   "version": "3.13.7"
  }
 },
 "nbformat": 4,
 "nbformat_minor": 5
}
